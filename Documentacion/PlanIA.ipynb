{
 "cells": [
  {
   "cell_type": "markdown",
   "metadata": {},
   "source": [
    "# __PLAN.IA__\n",
    "\n",
    "#### Revision __Adolfo Huerta__\n",
    "\n"
   ]
  },
  {
   "cell_type": "markdown",
   "metadata": {},
   "source": [
    "__\"Esta aplicación utiliza inteligencia artificial para ayudarte a planificar tus visitas a lugares de una localidad. Simplemente ingresa tus preferencias, como presupuesto, zona, tiempo disponible, clima, horarios, número de personas y perfiles individuales. La IA utilizará un algoritmo de recomendación para sugerir los mejores lugares para visitar, teniendo en cuenta todos estos parámetros. ¡Planificar tu viaje nunca ha sido tan fácil y personalizado!\"__"
   ]
  },
  {
   "cell_type": "markdown",
   "metadata": {},
   "source": [
    "<style>\n",
    "p {\n",
    "  text-align: justify;\n",
    "}\n",
    "</style>\n",
    "\n",
    "Una aplicación de asistente de viaje basada en la ciencia de datos y el aprendizaje automático puede aprovechar la gran cantidad de información disponible en línea para proporcionar a los usuarios una experiencia de viaje personalizada. A continuación, te proporciono un desglose más detallado de cómo podría funcionar:\n",
    "\n",
    "1. *Entrada de Datos del Usuario:* Los usuarios podrían proporcionar información relevante para su viaje, como el destino, la duración del viaje, el presupuesto, las preferencias de alojamiento y comida, los intereses (por ejemplo, museos, senderismo, playas, eventos locales, etc.), y cualquier otra restricción o preferencia.\n",
    "\n",
    "2. *Recolección de Datos:* Tu aplicación podría recopilar y organizar información de diversas fuentes en línea, como sitios web de reseñas de restaurantes, bases de datos de hoteles, sitios web de aerolíneas para información de vuelos, sitios web de eventos locales y bases de datos de atracciones turísticas. También podrías usar la información de ubicación en tiempo real y las condiciones del tráfico.\n",
    "\n",
    "3. *Análisis y Predicción:* La aplicación utilizaría algoritmos de aprendizaje automático y técnicas de ciencia de datos para analizar todos estos datos. Por ejemplo, podrías utilizar técnicas de clasificación para identificar las atracciones que más probablemente le gustarían al usuario basándote en sus preferencias, o técnicas de análisis de sentimientos para analizar las reseñas de hoteles y restaurantes.\n",
    "\n",
    "4. *Recomendaciones Personalizadas:* Con base en el análisis, la aplicación podría generar recomendaciones personalizadas. Esto podría incluir un itinerario diario detallado, recomendaciones de restaurantes para cada comida, sugerencias de hoteles dentro del presupuesto del usuario, opciones de vuelo y transporte, etc.\n",
    "\n",
    "5. *Retroalimentación y Aprendizaje Continuo:* A medida que el usuario utiliza la aplicación y proporciona retroalimentación (por ejemplo, calificando las recomendaciones o proporcionando reseñas), la aplicación podría aprender de estos datos para mejorar las recomendaciones futuras. Este es un componente clave del aprendizaje automático.\n",
    "\n",
    "Además, podrías incorporar otras características como el rastreo en tiempo real de precios de vuelos y hoteles para alertar a los usuarios sobre las mejores ofertas, la conversión de moneda, información sobre el clima, y más.\n",
    "\n",
    "Este es un proyecto ambicioso que requiere una amplia gama de habilidades, incluyendo el desarrollo móvil, la recopilación y el análisis de datos, el aprendizaje automático, y probablemente también la web scraping. Sin embargo, con la combinación correcta de estas tecnologías, podrías crear una herramienta de viaje verdaderamente poderosa y personalizada."
   ]
  },
  {
   "cell_type": "markdown",
   "metadata": {},
   "source": [
    "Planeacion de desarrollo: \n",
    "\n",
    "1. Determinar las fuentes de busqueda de informacion\n",
    "2. Determinar los valores para la busqueda de usuario\n",
    "3. Determinar los datos de recoleccion a usuarios\n",
    "4. Crear Arquitectura"
   ]
  },
  {
   "cell_type": "markdown",
   "metadata": {},
   "source": [
    "### Arquitectura"
   ]
  },
  {
   "cell_type": "markdown",
   "metadata": {},
   "source": [
    "<img align=\"center\" width=\"90%\" height=\"90%\" src=\"./img/diagrama_1.png\">"
   ]
  },
  {
   "cell_type": "markdown",
   "metadata": {},
   "source": [
    "### Determinar las fuentes de busqueda de información"
   ]
  },
  {
   "cell_type": "markdown",
   "metadata": {},
   "source": [
    "__Chilango:__ Ubicacion, Horario ocasionalmente Precio\n",
    "\n",
    "__FeverUp:__ Ubicacion, Horario ,Precio\n",
    "\n",
    "__Donde ir:__ Ubicacion, Horario, Precio\n",
    "\n",
    "__Redes Sociales:__ Variable\n",
    "\n"
   ]
  },
  {
   "cell_type": "markdown",
   "metadata": {},
   "source": [
    "### Determinar las fuentes de información del usuario"
   ]
  },
  {
   "cell_type": "markdown",
   "metadata": {},
   "source": [
    "<style>\n",
    "p {\n",
    "  text-align: justify;\n",
    "}\n",
    "</style>\n",
    "\n",
    "Preferencias de ubicación: Pregunta al usuario sobre su ubicación o permite que ingrese su ubicación actual. Esto ayudará a sugerir opciones cercanas para cada actividad planificada.\n",
    "\n",
    "Preferencias de fecha y hora: Permite que el usuario especifique la fecha y la hora en las que desea realizar la salida. Esto ayudará a ajustar las recomendaciones y garantizar que las opciones sean relevantes y disponibles en ese momento.\n",
    "\n",
    "Tipo de salida: Ofrece al usuario una lista de opciones comunes de salidas, como ir al cine, ir a cenar, ir a un evento deportivo, concierto, etc. También puedes permitir al usuario agregar sus propias actividades o intereses específicos.\n",
    "\n",
    "Género o categoría preferida: Si el usuario está interesado en ir al cine, puedes preguntar sobre el género de películas que prefiere, como acción, comedia, drama, ciencia ficción, etc. De manera similar, para ir a cenar, puedes preguntar sobre la cocina preferida, como italiana, mexicana, vegetariana, etc.\n",
    "\n",
    "Presupuesto: Pregunta al usuario sobre su presupuesto aproximado para la salida. Esto ayudará a ofrecer opciones acordes a su capacidad económica, como restaurantes de diferentes rangos de precios, eventos gratuitos o con entradas pagadas, etc.\n",
    "\n",
    "Preferencias alimentarias o restricciones dietéticas: Si el usuario planea cenar, es importante conocer sus preferencias alimentarias o restricciones dietéticas, como vegetariano, vegano, sin gluten, alergias alimentarias, etc. Esto ayudará a sugerir opciones adecuadas en restaurantes.\n",
    "\n",
    "Accesibilidad: Averigua si el usuario tiene alguna necesidad de accesibilidad, como sillas de ruedas, rampas, servicios para personas con discapacidades auditivas o visuales, etc. Esto permitirá ofrecer opciones que se ajusten a sus requerimientos.\n",
    "\n",
    "Transporte: Pregunta al usuario sobre su preferencia de transporte para llegar al destino. Algunos pueden preferir caminar, usar el transporte público o conducir su propio vehículo. Esto puede influir en las recomendaciones de ubicación y accesibilidad."
   ]
  },
  {
   "cell_type": "markdown",
   "metadata": {},
   "source": [
    "### Clasificador 1.- Primera opcion"
   ]
  },
  {
   "cell_type": "markdown",
   "metadata": {},
   "source": [
    "<style>\n",
    "p {\n",
    "  text-align: justify;\n",
    "}\n",
    "</style>\n",
    "\n",
    "Clasificador de categorías con un texto dado es utilizando una técnica llamada \"bolsa de palabras\" (bag of words en inglés). La bolsa de palabras es un modelo de representación de texto que ignora el orden y la estructura gramatical, y se centra en contar la frecuencia de las palabras presentes en un documento. Aquí te explico cómo podrías utilizarlo para crear un clasificador de categorías:\n",
    "\n",
    "Recopila un conjunto de textos para cada una de las categorías que deseas clasificar. Por ejemplo, si tienes categorías como \"Música en vivo\", \"Eventos deportivos\" y \"Conferencias\", necesitarás una colección de textos relacionados con cada categoría.\n",
    "\n",
    "Preprocesa los textos: Elimina puntuaciones, caracteres especiales y palabras vacías (stop words) que no aportan información relevante para la clasificación.\n",
    "\n",
    "Crea un vocabulario: Genera un conjunto único de palabras que aparecen en todos los textos preprocesados. Estas palabras formarán el vocabulario para la clasificación.\n",
    "\n",
    "Construye una matriz de características: Para cada texto, cuenta la frecuencia de aparición de las palabras del vocabulario. Esto generará una matriz numérica, donde cada fila representa un texto y cada columna representa una palabra del vocabulario.\n",
    "\n",
    "Entrena un modelo de clasificación: Utiliza un algoritmo de aprendizaje supervisado, como Naive Bayes, Support Vector Machines (SVM) o Random Forest, para entrenar un modelo de clasificación utilizando la matriz de características y las etiquetas de categoría correspondientes a los textos.\n",
    "\n",
    "Evalúa el modelo: Divide tus datos en conjuntos de entrenamiento y prueba, y evalúa el rendimiento del modelo de clasificación utilizando métricas como precisión, recall y F1-score.\n",
    "\n",
    "Utiliza el modelo para clasificar nuevos textos: Una vez que tengas un modelo entrenado, podrás utilizarlo para clasificar nuevos textos en las categorías establecidas.\n",
    "\n",
    "La bolsa de palabras es una técnica sencilla pero efectiva para comenzar a construir un clasificador de categorías. Sin embargo, ten en cuenta que es posible que pierda información semántica más compleja debido a la falta de consideración del orden y la estructura gramatical. En casos donde se requiera un análisis de texto más avanzado, podrías explorar técnicas como el uso de modelos de lenguaje pre-entrenados, como BERT o GPT, que capturan mejor las relaciones semánticas y el contexto del texto."
   ]
  },
  {
   "cell_type": "markdown",
   "metadata": {},
   "source": [
    "### Representacion Vectorial de palarbras 2.- Segunda Opcion"
   ]
  },
  {
   "cell_type": "markdown",
   "metadata": {},
   "source": [
    "<style>\n",
    "p {\n",
    "  text-align: justify;\n",
    "}\n",
    "</style>\n",
    "\n",
    "Representación vectorial de palabras: En lugar de simplemente contar la frecuencia de las palabras, puedes utilizar técnicas de representación vectorial de palabras como Word2Vec, GloVe o FastText. Estas técnicas asignan vectores numéricos a las palabras, capturando la semántica y las relaciones entre ellas. Puedes utilizar estos vectores para representar los textos en el clasificador de categorías y aplicar algoritmos de aprendizaje supervisado para la clasificación.\n",
    "\n"
   ]
  },
  {
   "cell_type": "markdown",
   "metadata": {},
   "source": [
    "### Redes neuronales 3.- Tercera Opcion"
   ]
  },
  {
   "cell_type": "markdown",
   "metadata": {},
   "source": [
    "<style>\n",
    "p {\n",
    "  text-align: justify;\n",
    "}\n",
    "</style>\n",
    "\n",
    "Redes neuronales recurrentes (RNN) o redes neuronales convolucionales (CNN): Estos modelos de aprendizaje profundo pueden capturar la estructura secuencial o las características locales del texto de manera más efectiva que la bolsa de palabras. Las RNN son adecuadas para secuencias de texto donde el orden es importante, mientras que las CNN son útiles para extraer características locales y de contexto del texto. Estos modelos pueden aprender representaciones más sofisticadas y complejas de los textos, lo que puede mejorar la precisión del clasificador de categorías.\n",
    "\n",
    "Ambos enfoques, la representación vectorial de palabras y el uso de redes neuronales, requieren un mayor grado de complejidad en términos de implementación y recursos computacionales. Sin embargo, pueden proporcionar resultados más precisos y capturar mejor las relaciones semánticas en los textos."
   ]
  },
  {
   "cell_type": "markdown",
   "metadata": {},
   "source": [
    "### Información de la division de la aplicacion"
   ]
  },
  {
   "cell_type": "markdown",
   "metadata": {},
   "source": [
    "<style>\n",
    "p {\n",
    "  text-align: justify;\n",
    "}\n",
    "</style>\n",
    "\n",
    "1. Pantalla de inicio:\n",
    "   - Bienvenida al usuario y breve descripción de la aplicación.\n",
    "   - Opción para iniciar sesión o crear una cuenta nueva.\n",
    "\n",
    "2. Pantalla de registro/Inicio de sesión:\n",
    "   - Formulario para que los usuarios ingresen sus credenciales o se registren en la aplicación.\n",
    "   - Opción para recuperar contraseña en caso de olvido.\n",
    "\n",
    "3. Pantalla de configuración de preferencias:\n",
    "   - Permite al usuario establecer sus preferencias inmediatamente después de crear una cuenta.\n",
    "   - Configuración de preferencias como ubicación, categorías de interés, presupuesto, etc.\n",
    "\n",
    "4. Pantalla principal:\n",
    "   - Vista principal con opciones para diferentes tipos de salidas, como \"Cine\", \"Cena\", \"Eventos\", etc.\n",
    "   - Opción para seleccionar con quién deseas hacer la salida, ya sea eligiendo de tu lista de contactos o ingresando manualmente su información.\n",
    "\n",
    "5. Pantalla de sincronización de preferencias:\n",
    "   - Permite al usuario sincronizar sus preferencias con las de la persona seleccionada.\n",
    "   - Muestra las preferencias del usuario y ofrece la opción de copiarlas a la otra persona o combinarlas.\n",
    "\n",
    "6. Pantalla de detalles de la salida:\n",
    "   - Información detallada sobre una salida específica, como la descripción del evento, la ubicación, la fecha y la hora, etc.\n",
    "\n",
    "7. Pantalla de planificación de salida:\n",
    "   - Permite al usuario planificar una salida específica con la persona seleccionada.\n",
    "   - Incluye opciones para seleccionar la fecha y hora, enviar invitaciones a amigos, agregar notas adicionales, etc.\n",
    "\n",
    "8. Pantalla de resultados de búsqueda:\n",
    "   - Presentación de los resultados de búsqueda basados en las preferencias del usuario y de la persona seleccionada.\n",
    "   - Filtros y opciones de ordenamiento para refinar los resultados.\n",
    "\n",
    "9. Pantalla de perfil:\n",
    "   - Información del perfil del usuario, incluyendo detalles personales y preferencias.\n",
    "   - Historial de salidas anteriores y calificaciones/reseñas.\n",
    "\n",
    "10. Pantalla de ajustes:\n",
    "    - Configuración adicional de la aplicación, como notificaciones, idioma, preferencias de accesibilidad, etc.\n"
   ]
  }
 ],
 "metadata": {
  "language_info": {
   "name": "python"
  },
  "orig_nbformat": 4
 },
 "nbformat": 4,
 "nbformat_minor": 2
}
